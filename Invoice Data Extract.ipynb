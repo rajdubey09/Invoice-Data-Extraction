{
 "cells": [
  {
   "cell_type": "code",
   "execution_count": 1,
   "id": "e78a5f6b",
   "metadata": {},
   "outputs": [],
   "source": [
    "#importing modules\n",
    "import pdfplumber\n",
    "import re"
   ]
  },
  {
   "cell_type": "code",
   "execution_count": 2,
   "id": "91706cd6",
   "metadata": {},
   "outputs": [],
   "source": [
    "#taking file as pdf and extracting text using pdfplumber.extract_text function\n",
    "text = \"\"\n",
    "with pdfplumber.open('examples/I645382119122022.pdf') as pdf:\n",
    "    for pag in range(0,len(pdf.pages)):\n",
    "        page = pdf.pages[pag]\n",
    "        text += page.extract_text()"
   ]
  },
  {
   "cell_type": "code",
   "execution_count": 3,
   "id": "bb21b70d",
   "metadata": {},
   "outputs": [
    {
     "name": "stdout",
     "output_type": "stream",
     "text": [
      "Duplicate Copy\n",
      "Plot no.219/1,\n",
      "Mauza Madudiah,\n",
      "Perg. Dehat Amanat,\n",
      "Varanasi - 221103\n",
      "Receipt\n",
      "----------------------------------------\n",
      "Original for Recipient\n",
      "Customer Installation Address:\n",
      "RAJ DUBEY\n",
      "Flat No: rohit nagar\n",
      "Bldg: rohit nagarSmt Nirmala Srivastav\n",
      "Soc: rohit nagarSmt Nirmala Srivastav\n",
      "Sec/Loc: Gandhi Nagar\n",
      "Street: sai hospital\n",
      "Area: Gandhi Nagar\n",
      "City: Varanasi\n",
      "State: UTTAR PRADESH\n",
      "PinCode: 221005\n",
      "Contact# 9170393399\n",
      "rajdubey569@gmail.com\n",
      "Relationship ID: 9170393399\n",
      "----------------------------------------\n",
      "----------------------------------------\n",
      "ItemName Qty Amt(Rs)\n",
      "HSN/SAC\n",
      "----------------------------------------\n",
      "Conectvty collcn_699 1EA 2810.76\n",
      "EAN#:1014267 0000\n",
      "Platform collcn_699 1EA 371.70\n",
      "EAN#:1014266 0000\n",
      "SD on behalf of RJIL 1EA 0.00\n",
      "EAN#:600530685 0000\n",
      "Home Gateway 1EA 0.00\n",
      "EAN#:920002490 0000\n",
      "Set Top Box 1EA 0.00\n",
      "EAN#:491584483 0000\n",
      "ORN : NO0000NYBK4N\n",
      "JIOFLN : 0542 7960626\n",
      "DISCLAIMER: This is a computer generated Duplicate Invoice copy hence seal and signature not required. Any replacement ,\n",
      "warranty, guarantee and product liability claim shall be honoured against original invoice only. Reliance Retail Limited.\n",
      "may, at its sole discretion, relax or waive any of its conditions mentioned overleaf the original invoice.BALANCE DUE 3182.46\n",
      "ONLINE - UPI 3182.46\n",
      "Items = 5\n",
      "========================================\n",
      "TOTAL 3182.46\n",
      "========================================\n",
      "THANK YOU\n",
      "C#67639563 Dt: 19/12/2022 12:27:05\n",
      "S#I645 Txn#1 R#382\n",
      "PaymentRefNo#I645382000119122022\n",
      "ReceiptNo I645382221000384\n",
      "----------------------------------------\n",
      "Cheques are subject to realization and\n",
      "goods will be delivered only after the\n",
      "cheque realization.\n",
      "Telecommunication Services to be\n",
      "provided by Reliance Jio Infocomm\n",
      "Limited.\n",
      "Charges collected & Home Gateway provided\n",
      "on their behalf.Platform services to be\n",
      "provided by Jio Platforms Limited and\n",
      "charges collected on their behalf.\n",
      "All Disputes are subject to Mumbai\n",
      "Jurisdiction only.\n",
      "----------------------------------------\n",
      "I645382000119122022\n",
      "0.6.9 : OK\n",
      "----------------------------------------\n",
      "Plot no.219/1,\n",
      "Date:1219 Time:122949\n",
      "MID:00000000000I645 TID:I6450382\n",
      "BATCH NUM:0 INV NUM:855678\n",
      "SALE\n",
      "235319984828 SWIPE\n",
      "EXP DATE:18/01/2023 CARD:ONLINE - UPI\n",
      "APPR CODE: RRN:010000\n",
      "TOTAL AMT:3182.46\n",
      "SIGN:----------------------------------\n",
      "BAL:0.00\n",
      "I AGREE TO PAY AS PER CARD ISSUER\n",
      "PLEASE KEEP FOR YOUR RECORDS\n",
      "DISCLAIMER: This is a computer generated Duplicate Invoice copy hence seal and signature not required. Any replacement ,\n",
      "warranty, guarantee and product liability claim shall be honoured against original invoice only. Reliance Retail Limited.\n",
      "may, at its sole discretion, relax or waive any of its conditions mentioned overleaf the original invoice.************* Merchant Copy ************\n",
      "Plot no.219/1,\n",
      "PREPAID CARD\n",
      "Date:1219 Time:122949\n",
      "MID:00000000000I645 TID:I6450382\n",
      "BATCH NUM:0 INV NUM:855678\n",
      "SALE\n",
      "235319984828 SWIPE\n",
      "EXP DATE:18/01/2023 CARD:ONLINE - UPI\n",
      "APPR CODE: RRN:010000\n",
      "TOTAL AMT:3182.46\n",
      "SIGN:-----------------------------------\n",
      "BAL:0.00\n",
      "I AGREE TO PAY AS PER CARD ISSUER\n",
      "PLEASE KEEP FOR YOUR RECORDS\n",
      "************* Customer Copy ************\n",
      "DISCLAIMER: This is a computer generated Duplicate Invoice copy hence seal and signature not required. Any replacement ,\n",
      "warranty, guarantee and product liability claim shall be honoured against original invoice only. Reliance Retail Limited.\n",
      "may, at its sole discretion, relax or waive any of its conditions mentioned overleaf the original invoice.\n"
     ]
    }
   ],
   "source": [
    "#print text\n",
    "print(text)"
   ]
  },
  {
   "cell_type": "code",
   "execution_count": 4,
   "id": "4490fb5e",
   "metadata": {},
   "outputs": [],
   "source": [
    "#creating regular expression to extract data from text\n",
    "newV = re.compile(r'Bldg: [a-zA-Z].*')\n",
    "# newV = re.compile(r'TOTAL AMT:[0-9].[0-9].*')"
   ]
  },
  {
   "cell_type": "code",
   "execution_count": 5,
   "id": "01caad5e",
   "metadata": {},
   "outputs": [
    {
     "name": "stdout",
     "output_type": "stream",
     "text": [
      "Bldg: rohit nagarSmt Nirmala Srivastav\n"
     ]
    }
   ],
   "source": [
    "#fetching data from text using above regex \n",
    "for line in text.split('\\n'):\n",
    "    if newV.match(line):\n",
    "        print(line)"
   ]
  },
  {
   "cell_type": "markdown",
   "id": "36385c3f",
   "metadata": {},
   "source": [
    "# this is very basic solution for the given problem"
   ]
  }
 ],
 "metadata": {
  "kernelspec": {
   "display_name": "Python 3 (ipykernel)",
   "language": "python",
   "name": "python3"
  },
  "language_info": {
   "codemirror_mode": {
    "name": "ipython",
    "version": 3
   },
   "file_extension": ".py",
   "mimetype": "text/x-python",
   "name": "python",
   "nbconvert_exporter": "python",
   "pygments_lexer": "ipython3",
   "version": "3.9.6"
  }
 },
 "nbformat": 4,
 "nbformat_minor": 5
}
